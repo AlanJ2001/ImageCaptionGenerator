{
 "cells": [
  {
   "cell_type": "code",
   "execution_count": null,
   "id": "228b5274",
   "metadata": {},
   "outputs": [],
   "source": [
    "# load in necessary data \n",
    "# load in model \n",
    "# function to generate BLEU score of that model on the test data set (2000 images)"
   ]
  },
  {
   "cell_type": "code",
   "execution_count": 19,
   "id": "f4f82ab0",
   "metadata": {},
   "outputs": [],
   "source": [
    "import numpy as np\n",
    "import cv2 \n",
    "from glob import glob\n",
    "import matplotlib.pyplot as plt\n",
    "from keras.applications import ResNet50\n",
    "from tensorflow import keras\n",
    "from keras.models import Model\n",
    "import time\n",
    "from keras_preprocessing.sequence import pad_sequences"
   ]
  },
  {
   "cell_type": "code",
   "execution_count": 2,
   "id": "691b7825",
   "metadata": {},
   "outputs": [],
   "source": [
    "from nltk.translate.bleu_score import corpus_bleu, sentence_bleu\n",
    "import numpy as np"
   ]
  },
  {
   "cell_type": "code",
   "execution_count": 13,
   "id": "b19ae9c6",
   "metadata": {},
   "outputs": [],
   "source": [
    "captions_dict = np.load(\"captions_dict.npy\", allow_pickle=True).item()\n",
    "filenames_test = np.load(\"testingData/filenames_testing.npy\", allow_pickle=Tr)"
   ]
  },
  {
   "cell_type": "code",
   "execution_count": 10,
   "id": "d8463f80",
   "metadata": {},
   "outputs": [],
   "source": [
    "def compute_bleu(filename, captions_dict, model):\n",
    "    ref = []\n",
    "    for item in captions_dict[filename.split(\"\\\\\")[1]]:\n",
    "        ref.append(item.split()[1:-1])\n",
    "    cand = decode_caption(generate_caption(generate_img_feature_vector(filename))).split()[1:-1]\n",
    "    return np.array((sentence_bleu(ref, cand, weights=(1.0, 0, 0, 0)), \n",
    "    sentence_bleu(ref, cand, weights=(0.5, 0.5, 0, 0)),\n",
    "    sentence_bleu(ref, cand, weights=(0.3, 0.3, 0.3, 0)),\n",
    "    sentence_bleu(ref, cand, weights=(0.25, 0.25, 0.25, 0.25))))"
   ]
  },
  {
   "cell_type": "code",
   "execution_count": null,
   "id": "4a41d1a9",
   "metadata": {},
   "outputs": [],
   "source": [
    "alist = []\n",
    "n=0\n",
    "for item in filenames_test[:500]:\n",
    "    print(n)\n",
    "    filename = \"Flickr_Data/Images\\\\\"+item\n",
    "    result = compute_bleu(filename, captions_dict, model)\n",
    "    alist.append(result)\n",
    "    n+=1"
   ]
  }
 ],
 "metadata": {
  "kernelspec": {
   "display_name": "Python 3 (ipykernel)",
   "language": "python",
   "name": "python3"
  },
  "language_info": {
   "codemirror_mode": {
    "name": "ipython",
    "version": 3
   },
   "file_extension": ".py",
   "mimetype": "text/x-python",
   "name": "python",
   "nbconvert_exporter": "python",
   "pygments_lexer": "ipython3",
   "version": "3.9.7"
  }
 },
 "nbformat": 4,
 "nbformat_minor": 5
}
