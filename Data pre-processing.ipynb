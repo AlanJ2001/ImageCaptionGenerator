{
 "cells": [
  {
   "cell_type": "code",
   "execution_count": 1,
   "id": "30965abe",
   "metadata": {},
   "outputs": [],
   "source": [
    "import numpy as np\n",
    "import cv2 \n",
    "import os\n",
    "from glob import glob\n",
    "import matplotlib.pyplot as plt\n",
    "from keras.applications import ResNet50\n",
    "from keras.models import Model\n",
    "import copy\n",
    "import tensorflow as tf\n",
    "from tensorflow import keras\n",
    "import sys\n",
    "import pandas\n",
    "from keras_preprocessing.sequence import pad_sequences\n",
    "import time\n",
    "from keras.models import Model, Sequential\n",
    "from keras.layers import Input\n",
    "from keras.layers import Dense\n",
    "from keras.layers import LSTM\n",
    "from keras.layers import Embedding\n",
    "from keras.layers import Dropout\n",
    "# from keras.layers import add\n",
    "from keras.callbacks import ModelCheckpoint\n",
    "from keras.layers import Dense, Flatten,Input, Convolution2D, Dropout, LSTM, TimeDistributed, Embedding, Bidirectional, Activation, RepeatVector,Concatenate\n",
    "from keras.models import Sequential, Model\n",
    "from keras.layers import concatenate\n",
    "from keras.layers import Reshape\n",
    "from keras.layers import (LSTM, BatchNormalization, Dense, Dropout, Embedding,Input, Lambda, TimeDistributed)\n",
    "from keras import backend as K\n",
    "from keras import regularizers\n",
    "from npy_append_array import NpyAppendArray\n",
    "from tensorflow.keras.utils import to_categorical"
   ]
  },
  {
   "cell_type": "code",
   "execution_count": null,
   "id": "179934b5",
   "metadata": {},
   "outputs": [],
   "source": [
    "images_path = 'Flickr_Data/Images/'\n",
    "images = glob(images_path+'*.jpg')\n",
    "captions_path = \"Flickr_Data/Flickr_TextData/FLickr8k.token.txt\"\n",
    "max_len = 40"
   ]
  },
  {
   "cell_type": "code",
   "execution_count": null,
   "id": "7188271d",
   "metadata": {},
   "outputs": [],
   "source": [
    "len(images)"
   ]
  },
  {
   "cell_type": "code",
   "execution_count": null,
   "id": "99f12d94",
   "metadata": {},
   "outputs": [],
   "source": [
    "# preprocess the images\n",
    "# generate a dictionary of image filename -> feature vector\n",
    "\n",
    "# start_index is inclusive\n",
    "\n",
    "def generate_feature_vectors(start_index, num_of_images, images, model):\n",
    "    img_feature_vectors = {}\n",
    "\n",
    "    count = 0\n",
    "    for item in images[start_index:]:\n",
    "        img = cv2.imread(item)\n",
    "        img = cv2.cvtColor(img, cv2.COLOR_BGR2RGB)\n",
    "        img = cv2.resize(img, (224, 224))\n",
    "        img = img.reshape(1, 224, 224, 3)\n",
    "\n",
    "        feature_vector = model.predict(img, verbose=0).reshape(2048,)\n",
    "\n",
    "        img_filename = item.split('\\\\')[-1]\n",
    "        img_feature_vectors[img_filename] = feature_vector\n",
    "\n",
    "        count += 1\n",
    "\n",
    "        if (count%50==0):\n",
    "            print(count)\n",
    "\n",
    "        if (count==num_of_images):\n",
    "            break\n",
    "\n",
    "    return img_feature_vectors"
   ]
  },
  {
   "cell_type": "code",
   "execution_count": null,
   "id": "e77452d7",
   "metadata": {},
   "outputs": [],
   "source": [
    "# makes a string lowercase, prepends it with the string 'sos' and appends with 'eos'\n",
    "def process_string(s):\n",
    "    s = s.lower()\n",
    "    return 'sos ' + s + ' eos'"
   ]
  },
  {
   "cell_type": "code",
   "execution_count": null,
   "id": "a291a732",
   "metadata": {},
   "outputs": [],
   "source": [
    "# preprocess the captions data\n",
    "\n",
    "# generate a dictionary of image filename -> list of captions\n",
    "\n",
    "def generate_captions_dict(captions_path, img_feature_vectors):\n",
    "    captions_dict = {}\n",
    "\n",
    "    f = open(captions_path, 'r').read().split('\\n')\n",
    "\n",
    "    # generate a dictionary of filenames to a list of captions\n",
    "    for line in f:\n",
    "        try:\n",
    "            filename_caption = line.split('\\t') \n",
    "            filename = filename_caption[0][:-2]\n",
    "            caption = process_string(filename_caption[1])\n",
    "\n",
    "            if filename in img_feature_vectors:\n",
    "                if filename not in captions_dict:\n",
    "                    captions_dict[filename] = [caption]\n",
    "                else:\n",
    "                    captions_dict[filename].append(caption)\n",
    "        except:\n",
    "            pass\n",
    "        \n",
    "    return captions_dict"
   ]
  },
  {
   "cell_type": "code",
   "execution_count": null,
   "id": "aca4bcc4",
   "metadata": {},
   "outputs": [],
   "source": [
    "# generates a list of all captions in a text file \n",
    "\n",
    "def get_list_of_captions(captions_path):\n",
    "    f = open(captions_path, 'r').read().split('\\n')\n",
    "    all_captions = []\n",
    "\n",
    "    for line in f:\n",
    "        try:\n",
    "            filename_caption = line.split('\\t') \n",
    "            caption = process_string(filename_caption[1])\n",
    "            all_captions.append(caption)\n",
    "        except:\n",
    "            pass\n",
    "        \n",
    "    return all_captions"
   ]
  },
  {
   "cell_type": "code",
   "execution_count": null,
   "id": "2a74f48f",
   "metadata": {},
   "outputs": [],
   "source": [
    "# generate a dictionary called vocab which will contain all words in the list of captions mapped to a unique integer\n",
    "# does not include words that appear less than n times\n",
    "# only keeps common words\n",
    "\n",
    "def create_common_vocab(captions_path, n):\n",
    "    vocab_freq = {}\n",
    "    vocab_dict = {}\n",
    "    all_captions = get_list_of_captions(captions_path)\n",
    "    count = 1\n",
    "    for caption in all_captions:\n",
    "        caption_as_list = caption.split()\n",
    "        for word in caption_as_list:\n",
    "            if word not in vocab_freq:\n",
    "                vocab_freq[word] = 1\n",
    "            else:\n",
    "                vocab_freq[word] = vocab_freq[word]+1\n",
    "    vocab_list = [w for w in vocab_freq if vocab_freq[w] >= n]\n",
    "    count = 1\n",
    "    for word in vocab_list:\n",
    "        if word not in vocab_dict:\n",
    "            vocab_dict[word] = count\n",
    "            count+=1\n",
    "    return vocab_dict"
   ]
  },
  {
   "cell_type": "code",
   "execution_count": null,
   "id": "2b7ff4aa",
   "metadata": {},
   "outputs": [],
   "source": [
    "# takes a string and returns a list of integers where each integer corresponds to a particular word\n",
    "def encode_string(s, vocab):\n",
    "    s_list = s.split()\n",
    "    encoded_string = []\n",
    "    for word in s_list:\n",
    "            if word in vocab:\n",
    "                encoded_string.append(vocab[word])\n",
    "    return encoded_string"
   ]
  },
  {
   "cell_type": "code",
   "execution_count": null,
   "id": "61624e62",
   "metadata": {},
   "outputs": [],
   "source": [
    "# generates a copy of captions_dict where each caption is replaced with a list of integers where each integer corresponds to a word in the caption\n",
    "\n",
    "def encode_captions_dict(captions_dict, vocab):\n",
    "    captions_dict_encoded = copy.deepcopy(captions_dict)\n",
    "\n",
    "    for filename, captions in captions_dict_encoded.items():\n",
    "        for i, caption in enumerate(captions):\n",
    "            captions[i] = encode_string(caption, vocab)\n",
    "    return captions_dict_encoded"
   ]
  },
  {
   "cell_type": "code",
   "execution_count": null,
   "id": "d7222b70",
   "metadata": {},
   "outputs": [],
   "source": [
    "# get length of the longest caption in the data set\n",
    "def get_max_length(captions_dict):\n",
    "    max_len = 0\n",
    "    for key, value in captions_dict.items():\n",
    "        for caption in value:\n",
    "            if len(caption.split())>max_len:\n",
    "                max_len = len(caption.split())\n",
    "    return max_len\n",
    "\n",
    "# max_len = 40"
   ]
  },
  {
   "cell_type": "code",
   "execution_count": null,
   "id": "8c7689a3",
   "metadata": {},
   "outputs": [],
   "source": [
    "# batch size -> number of images will data be generated for at once\n",
    "\n",
    "def generate_training_data(image_feature_vectors, captions_dict_encoded, max_len, vocab_len, batch_size, num_of_images):\n",
    "    X_file = 'X_testing.npy'\n",
    "    y_in_file = 'y_in_testing.npy'\n",
    "    y_out_file = 'y_out_testing.npy'\n",
    "    filenames_file = 'filenames_testing.npy'\n",
    "    \n",
    "    X = []\n",
    "    y_in = []\n",
    "    y_out = []\n",
    "    filenames = set()\n",
    "    \n",
    "    n = 0\n",
    "    for filename, captions in captions_dict_encoded.items():\n",
    "        n+=1\n",
    "        if n <= 6473:\n",
    "            continue\n",
    "        for caption in captions:\n",
    "            i = 0\n",
    "            for word in caption:\n",
    "                y_in_item = [caption[:i]]\n",
    "                y_in_item = pad_sequences(y_in_item, maxlen=max_len, truncating='post')[0]\n",
    "                y_in.append(y_in_item)\n",
    "\n",
    "                y_out_item = to_categorical([word], num_classes=vocab_len+1)[0]\n",
    "                y_out.append(y_out_item)\n",
    "\n",
    "                X_item = image_feature_vectors[filename]\n",
    "                X.append(X_item)\n",
    "                \n",
    "                filenames.add(filename)\n",
    "                i+=1\n",
    "        if n%batch_size==0 or n==num_of_images:\n",
    "            print(n)\n",
    "            with NpyAppendArray(X_file) as npaa:\n",
    "                npaa.append(np.array(X))\n",
    "            with NpyAppendArray(y_in_file) as npaa:\n",
    "                npaa.append(np.array(y_in))\n",
    "            with NpyAppendArray(y_out_file) as npaa:\n",
    "                npaa.append(np.array(y_out))\n",
    "            X = []\n",
    "            y_in = []\n",
    "            y_out = []\n",
    "            if n == num_of_images:\n",
    "                break\n",
    "    np.save(filenames_file, filenames)"
   ]
  },
  {
   "cell_type": "code",
   "execution_count": null,
   "id": "bb59da5e",
   "metadata": {},
   "outputs": [],
   "source": [
    "resnet_model = ResNet50(include_top=True)\n",
    "# restructure model\n",
    "resnet_model = Model(inputs=resnet_model.input, outputs=resnet_model.layers[-2].output)\n",
    "\n",
    "img_feature_vectors = generate_feature_vectors(0, 8091, images, resnet_model)"
   ]
  },
  {
   "cell_type": "code",
   "execution_count": null,
   "id": "b8b98763",
   "metadata": {},
   "outputs": [],
   "source": [
    "captions_dict = generate_captions_dict(captions_path, img_feature_vectors)\n",
    "vocab = create_common_vocab(captions_path)\n",
    "captions_dict_encoded = encode_captions_dict(captions_dict, vocab)"
   ]
  },
  {
   "cell_type": "code",
   "execution_count": null,
   "id": "0888e86c",
   "metadata": {},
   "outputs": [],
   "source": [
    "# np.save('img_feature_vectors.npy', img_feature_vectors)\n",
    "# np.save('captions_dict.npy', captions_dict)\n",
    "# np.save('vocab.npy', vocab)\n",
    "# np.save('captions_dict_encoded.npy', captions_dict_encoded)"
   ]
  },
  {
   "cell_type": "code",
   "execution_count": null,
   "id": "5d486c2f",
   "metadata": {},
   "outputs": [],
   "source": [
    "img_feature_vectors = np.load('img_feature_vectors.npy', allow_pickle='TRUE').item()\n",
    "captions_dict_encoded = np.load('captions_dict_encoded.npy', allow_pickle='TRUE').item()\n",
    "vocab = np.load('vocab.npy', allow_pickle='TRUE').item()\n",
    "embedding_matrix = np.load('embedding_matrix.npy')"
   ]
  },
  {
   "cell_type": "code",
   "execution_count": null,
   "id": "eb97c0ba",
   "metadata": {},
   "outputs": [],
   "source": [
    "len(img_feature_vectors)"
   ]
  },
  {
   "cell_type": "code",
   "execution_count": null,
   "id": "325a0e6f",
   "metadata": {},
   "outputs": [],
   "source": [
    "start_time = time.time()\n",
    "\n",
    "vocab_len = len(vocab)\n",
    "\n",
    "generate_training_data(img_feature_vectors, captions_dict_encoded, 40, vocab_len, 1000, 8091)\n",
    "\n",
    "print(time.time()-start_time)"
   ]
  },
  {
   "cell_type": "code",
   "execution_count": null,
   "id": "fccf6378",
   "metadata": {},
   "outputs": [],
   "source": [
    "filenames = {\"alan\", \"bob\", \"john\", \"jack\", \"carl\", \"alan\"}\n",
    "np.save(\"just_a_test.npy\", filenames)"
   ]
  },
  {
   "cell_type": "code",
   "execution_count": null,
   "id": "3bd082ff",
   "metadata": {},
   "outputs": [],
   "source": [
    "a = np.load(\"just_a_test.npy\", allow_pickle=True).item()"
   ]
  },
  {
   "cell_type": "code",
   "execution_count": null,
   "id": "5a91dd93",
   "metadata": {},
   "outputs": [],
   "source": [
    "word_embeddings = {}\n",
    "f = open(\"glove/glove.6B.200d.txt\", encoding=\"utf-8\")\n",
    "for line in f:\n",
    "    word_vector = line.split()\n",
    "    word = word_vector[0]\n",
    "    vector = np.asarray(word_vector[1:], dtype='float32')\n",
    "    word_embeddings[word] = vector\n",
    "f.close()"
   ]
  },
  {
   "cell_type": "code",
   "execution_count": null,
   "id": "a6256204",
   "metadata": {},
   "outputs": [],
   "source": [
    "embedding_size = 200\n",
    "vocab_size = 1965+1\n",
    "# word to index\n",
    "\n",
    "embedding_matrix = np.zeros((vocab_size, embedding_size))\n",
    "\n",
    "for word, i in vocab.items():\n",
    "    #if i < max_words:\n",
    "    embedding_vector = word_embeddings.get(word)\n",
    "    if embedding_vector is not None:\n",
    "        # Words not found in the embedding index will be all zeros\n",
    "        embedding_matrix[i] = embedding_vector"
   ]
  },
  {
   "cell_type": "code",
   "execution_count": null,
   "id": "a89633aa",
   "metadata": {},
   "outputs": [],
   "source": [
    "# np.save('embedding_matrix.npy', embedding_matrix)"
   ]
  },
  {
   "cell_type": "code",
   "execution_count": null,
   "id": "b0d13ab9",
   "metadata": {},
   "outputs": [],
   "source": [
    "#version 1\n",
    "\n",
    "embedding_size = 128\n",
    "vocab_len = 3988+1\n",
    "max_len = 40\n",
    "\n",
    "#image\n",
    "x = keras.Sequential([\n",
    "    keras.layers.Input(shape=(2048,)),\n",
    "    keras.layers.Dense(128, activation='relu'),\n",
    "    keras.layers.RepeatVector(max_len)\n",
    "])\n",
    "\n",
    "#caption\n",
    "y = keras.Sequential([\n",
    "    keras.layers.Embedding(vocab_len, embedding_size, input_length=max_len),\n",
    "    keras.layers.LSTM(256, return_sequences=True),\n",
    "    keras.layers.TimeDistributed(keras.layers.Dense(embedding_size))\n",
    "])\n",
    "\n",
    "#concatinate outputs of y and x\n",
    "z = keras.layers.Concatenate()([x.output, y.output])\n",
    "z = keras.layers.LSTM(128, return_sequences=True)(z)\n",
    "z = keras.layers.LSTM(512, return_sequences=False)(z)\n",
    "z = keras.layers.Dense(vocab_len, activation='softmax')(z)\n",
    "\n",
    "model = Model(inputs=[x.input, y.input], outputs=z)\n",
    "\n",
    "model.compile(loss='categorical_crossentropy', optimizer='RMSprop', metrics=['accuracy'])\n",
    "model.summary()"
   ]
  },
  {
   "cell_type": "code",
   "execution_count": null,
   "id": "17ea2a25",
   "metadata": {},
   "outputs": [],
   "source": [
    "#version 2\n",
    "\n",
    "vocab_size = 1965+1\n",
    "max_len = 40\n",
    "embedding_size = 200\n",
    "\n",
    "# image feature extractor model\n",
    "image_input = Input(shape=(2048,))\n",
    "ii1 = Dropout(0.5)(image_input)\n",
    "ii2 = Dense(256, activation='relu')(ii1)\n",
    "\n",
    "# partial caption sequence model\n",
    "caption_input = Input(shape=(max_len,))\n",
    "ci1 = Embedding(vocab_size, embedding_size, mask_zero=True)(caption_input)\n",
    "ci2 = Dropout(0.5)(ci1)\n",
    "ci3 = LSTM(256)(ci2)\n",
    "\n",
    "# decoder (feed forward) model\n",
    "output = add([ii2, ci3])\n",
    "output = Dense(256, activation='relu')(output)\n",
    "output = Dense(vocab_size, activation='softmax')(output)\n",
    "\n",
    "# merge the two input models\n",
    "model = Model(inputs=[image_input, caption_input ], outputs=output)"
   ]
  },
  {
   "cell_type": "code",
   "execution_count": 2,
   "id": "a6ca2ddb",
   "metadata": {},
   "outputs": [],
   "source": [
    "x = np.load(\"testingData/filenames_testing.npy\", allow_pickle=True).item()"
   ]
  },
  {
   "cell_type": "code",
   "execution_count": 3,
   "id": "7124c5a2",
   "metadata": {},
   "outputs": [],
   "source": [
    "y = np.load(\"trainingData/filenames_training.npy\", allow_pickle=True).item()"
   ]
  },
  {
   "cell_type": "code",
   "execution_count": 2,
   "id": "86e5c4ef",
   "metadata": {},
   "outputs": [],
   "source": [
    "f = open('trainingData/X_training.npy', 'r')"
   ]
  }
 ],
 "metadata": {
  "kernelspec": {
   "display_name": "Python 3 (ipykernel)",
   "language": "python",
   "name": "python3"
  },
  "language_info": {
   "codemirror_mode": {
    "name": "ipython",
    "version": 3
   },
   "file_extension": ".py",
   "mimetype": "text/x-python",
   "name": "python",
   "nbconvert_exporter": "python",
   "pygments_lexer": "ipython3",
   "version": "3.9.7"
  }
 },
 "nbformat": 4,
 "nbformat_minor": 5
}
