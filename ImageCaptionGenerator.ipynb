{
 "cells": [
  {
   "cell_type": "code",
   "execution_count": 1,
   "id": "30965abe",
   "metadata": {},
   "outputs": [],
   "source": [
    "import numpy as np\n",
    "import cv2 \n",
    "import os\n",
    "from glob import glob\n",
    "import matplotlib.pyplot as plt\n",
    "\n",
    "from keras.applications import ResNet50\n",
    "from keras.models import Model"
   ]
  },
  {
   "cell_type": "code",
   "execution_count": 2,
   "id": "179934b5",
   "metadata": {},
   "outputs": [],
   "source": [
    "images_path = 'Flickr_Data\\\\Images\\\\'\n",
    "images = glob(images_path+'*.jpg')"
   ]
  },
  {
   "cell_type": "code",
   "execution_count": 3,
   "id": "02fdd702",
   "metadata": {},
   "outputs": [],
   "source": [
    "# captions_path = \"Flickr_Data/Flickr_TextData/FLickr8k.token.txt\""
   ]
  },
  {
   "cell_type": "code",
   "execution_count": 4,
   "id": "2fe7e507",
   "metadata": {},
   "outputs": [],
   "source": [
    "resnet_model = ResNet50(include_top=True)"
   ]
  },
  {
   "cell_type": "code",
   "execution_count": 5,
   "id": "e2e224b3",
   "metadata": {},
   "outputs": [],
   "source": [
    "# restructure model\n",
    "resnet_model = Model(inputs=resnet_model.input, outputs=resnet_model.layers[-2].output)"
   ]
  },
  {
   "cell_type": "code",
   "execution_count": null,
   "id": "99f12d94",
   "metadata": {},
   "outputs": [],
   "source": [
    "#preprocess the images\n",
    "img_feature_vectors = {}\n",
    "\n",
    "count = 0\n",
    "for item in images:\n",
    "    img = cv2.imread(item)\n",
    "    img = cv2.cvtColor(img, cv2.COLOR_BGR2RGB)\n",
    "    img = cv2.resize(img, (224, 224))\n",
    "    img = img.reshape(1, 224, 224, 3)\n",
    "    \n",
    "    feature_vector = resnet_model.predict(img, verbose=0).reshape(2048,)\n",
    "    \n",
    "    img_filename = item.split('\\\\')[-1]\n",
    "    img_feature_vectors[img_filename] = feature_vector\n",
    "    \n",
    "    count += 1\n",
    "    \n",
    "    if (count%50==0):\n",
    "        print(count)\n",
    "    \n",
    "    if (count==1499):\n",
    "        break"
   ]
  },
  {
   "cell_type": "code",
   "execution_count": null,
   "id": "540f8435",
   "metadata": {},
   "outputs": [],
   "source": []
  }
 ],
 "metadata": {
  "kernelspec": {
   "display_name": "Python 3 (ipykernel)",
   "language": "python",
   "name": "python3"
  },
  "language_info": {
   "codemirror_mode": {
    "name": "ipython",
    "version": 3
   },
   "file_extension": ".py",
   "mimetype": "text/x-python",
   "name": "python",
   "nbconvert_exporter": "python",
   "pygments_lexer": "ipython3",
   "version": "3.9.7"
  }
 },
 "nbformat": 4,
 "nbformat_minor": 5
}
