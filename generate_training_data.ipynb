{
 "cells": [
  {
   "cell_type": "code",
   "execution_count": 1,
   "id": "3290385f",
   "metadata": {},
   "outputs": [],
   "source": [
    "import numpy as np\n",
    "import cv2 \n",
    "import os\n",
    "from glob import glob\n",
    "from keras.applications import ResNet50\n",
    "import copy\n",
    "import sys\n",
    "from keras_preprocessing.sequence import pad_sequences\n",
    "import time\n",
    "from npy_append_array import NpyAppendArray\n",
    "from tensorflow.keras.utils import to_categorical\n",
    "import itertools\n",
    "import pandas as pd\n",
    "import string"
   ]
  },
  {
   "cell_type": "code",
   "execution_count": 2,
   "id": "76cc1cdf",
   "metadata": {},
   "outputs": [],
   "source": [
    "# batch size -> number of images will data be generated for at once\n",
    "\n",
    "def generate_training_data(img_feature_vectors, images_set, captions_dict_encoded, max_len, vocab_len, batch_size, id_):\n",
    "    \n",
    "    img_feature_vectors = {k: v for k, v in img_feature_vectors.items() if k in images_set}\n",
    "    \n",
    "    X_file = f'X_{id_}.npy'\n",
    "    y_in_file = f'y_in_{id_}.npy'\n",
    "    y_out_file = f'y_out_{id_}.npy'\n",
    "    filenames_file = f'filenames_{id_}.npy'\n",
    "    \n",
    "    X = []\n",
    "    y_in = []\n",
    "    y_out = []\n",
    "    filenames = set()\n",
    "    \n",
    "    n = 0\n",
    "    for filename, fv in img_feature_vectors.items():\n",
    "        n+=1\n",
    "        for caption in captions_dict_encoded[filename]:\n",
    "            i = 0\n",
    "            for word in caption:\n",
    "                if i==0:\n",
    "                    i+=1\n",
    "                    continue\n",
    "                y_in_item = [caption[:i]]\n",
    "                y_in_item = pad_sequences(y_in_item, maxlen=max_len, truncating='post')[0]\n",
    "                y_in.append(y_in_item)\n",
    "\n",
    "                y_out_item = to_categorical([word], num_classes=vocab_len+1)[0]\n",
    "                y_out.append(y_out_item)\n",
    "\n",
    "                X.append(fv)\n",
    "                \n",
    "                filenames.add(filename)\n",
    "                i+=1\n",
    "        if n%batch_size==0 or n==len(img_feature_vectors):\n",
    "            print(n)\n",
    "            with NpyAppendArray(X_file) as npaa:\n",
    "                npaa.append(np.array(X))\n",
    "            with NpyAppendArray(y_in_file) as npaa:\n",
    "                npaa.append(np.array(y_in))\n",
    "            with NpyAppendArray(y_out_file) as npaa:\n",
    "                npaa.append(np.array(y_out))\n",
    "            X = []\n",
    "            y_in = []\n",
    "            y_out = []\n",
    "            if n == len(img_feature_vectors):\n",
    "                break\n",
    "    np.save(filenames_file, filenames)"
   ]
  },
  {
   "cell_type": "code",
   "execution_count": 8,
   "id": "5f49c114",
   "metadata": {},
   "outputs": [],
   "source": [
    "if __name__ == \"__main__\":\n",
    "    img_feature_vectors = np.load(\"img_feature_vectors.npy\", allow_pickle=True).item()\n",
    "    captions_dict_encoded = np.load(\"captions_dict_encoded.npy\", allow_pickle=True).item()\n",
    "    vocab = np.load(\"vocab.npy\", allow_pickle=True).item()\n",
    "    train = np.load(\"train.npy\", allow_pickle=True).item()\n",
    "    test = np.load(\"test.npy\", allow_pickle=True).item()\n",
    "    \n",
    "    \n",
    "    vocab_len = len(vocab)\n",
    "    generate_training_data(img_feature_vectors, train, captions_dict_encoded, 40, vocab_len, 1000, \"train\")\n",
    "    generate_training_data(img_feature_vectors, test, captions_dict_encoded, 40, vocab_len, 1000, \"test\")"
   ]
  },
  {
   "cell_type": "code",
   "execution_count": null,
   "id": "fbb20e0d",
   "metadata": {},
   "outputs": [],
   "source": []
  }
 ],
 "metadata": {
  "kernelspec": {
   "display_name": "Python 3 (ipykernel)",
   "language": "python",
   "name": "python3"
  },
  "language_info": {
   "codemirror_mode": {
    "name": "ipython",
    "version": 3
   },
   "file_extension": ".py",
   "mimetype": "text/x-python",
   "name": "python",
   "nbconvert_exporter": "python",
   "pygments_lexer": "ipython3",
   "version": "3.9.7"
  }
 },
 "nbformat": 4,
 "nbformat_minor": 5
}
